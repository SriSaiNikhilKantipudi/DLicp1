{
  "nbformat": 4,
  "nbformat_minor": 0,
  "metadata": {
    "colab": {
      "name": "DLicp1b.ipynb",
      "provenance": []
    },
    "kernelspec": {
      "name": "python3",
      "display_name": "Python 3"
    }
  },
  "cells": [
    {
      "cell_type": "code",
      "metadata": {
        "id": "XdSWrhMmd5gV",
        "colab_type": "code",
        "colab": {}
      },
      "source": [
        "import pandas\n",
        "from keras.models import Sequential\n",
        "from keras.layers.core import Dense, Activation\n",
        "\n",
        "# load dataset\n",
        "from sklearn.model_selection import train_test_split\n",
        "import pandas as pd\n",
        "import numpy as np"
      ],
      "execution_count": 0,
      "outputs": []
    },
    {
      "cell_type": "code",
      "metadata": {
        "id": "Op6KMdBsd7ZO",
        "colab_type": "code",
        "colab": {
          "base_uri": "https://localhost:8080/",
          "height": 125
        },
        "outputId": "15001c09-ebe0-41d5-8807-b2c7fbe1a7cf"
      },
      "source": [
        "from google.colab import drive\n",
        "drive.mount('/content/drive')\n"
      ],
      "execution_count": 2,
      "outputs": [
        {
          "output_type": "stream",
          "text": [
            "Go to this URL in a browser: https://accounts.google.com/o/oauth2/auth?client_id=947318989803-6bn6qk8qdgf4n4g3pfee6491hc0brc4i.apps.googleusercontent.com&redirect_uri=urn%3aietf%3awg%3aoauth%3a2.0%3aoob&response_type=code&scope=email%20https%3a%2f%2fwww.googleapis.com%2fauth%2fdocs.test%20https%3a%2f%2fwww.googleapis.com%2fauth%2fdrive%20https%3a%2f%2fwww.googleapis.com%2fauth%2fdrive.photos.readonly%20https%3a%2f%2fwww.googleapis.com%2fauth%2fpeopleapi.readonly\n",
            "\n",
            "Enter your authorization code:\n",
            "··········\n",
            "Mounted at /content/drive\n"
          ],
          "name": "stdout"
        }
      ]
    },
    {
      "cell_type": "code",
      "metadata": {
        "id": "1Xa032ZseFI1",
        "colab_type": "code",
        "colab": {
          "base_uri": "https://localhost:8080/",
          "height": 105
        },
        "outputId": "f74557af-23c6-4a9f-cbf6-6a47b60da08b"
      },
      "source": [
        "dataset = pd.read_csv(\"/content/drive/My Drive/Colab Notebooks/deeplearning/breastcancer.csv\").values\n",
        "from sklearn import preprocessing\n",
        "pre_process = preprocessing.LabelEncoder()\n",
        "pre_process.fit(dataset[:,1])\n",
        "\n",
        "dataset[:,1] = pre_process.transform(dataset[:,1])\n",
        "mapping = {'M': 1, 'B': 2}\n",
        "\n",
        "\n",
        "from sklearn.preprocessing import StandardScaler\n",
        "sc = StandardScaler()\n",
        "print (sc.fit(dataset))"
      ],
      "execution_count": 3,
      "outputs": [
        {
          "output_type": "stream",
          "text": [
            "StandardScaler(copy=True, with_mean=True, with_std=True)\n"
          ],
          "name": "stdout"
        },
        {
          "output_type": "stream",
          "text": [
            "/usr/local/lib/python3.6/dist-packages/sklearn/utils/extmath.py:765: RuntimeWarning: invalid value encountered in true_divide\n",
            "  updated_mean = (last_sum + new_sum) / updated_sample_count\n",
            "/usr/local/lib/python3.6/dist-packages/sklearn/utils/extmath.py:706: RuntimeWarning: Degrees of freedom <= 0 for slice.\n",
            "  result = op(x, *args, **kwargs)\n"
          ],
          "name": "stderr"
        }
      ]
    },
    {
      "cell_type": "code",
      "metadata": {
        "id": "7fwAVgCjd_K5",
        "colab_type": "code",
        "colab": {}
      },
      "source": [
        "X_train, X_test, Y_train, Y_test = train_test_split(dataset[:,2:31], dataset[:,1],test_size=0.25, random_state=87)"
      ],
      "execution_count": 0,
      "outputs": []
    },
    {
      "cell_type": "code",
      "metadata": {
        "id": "TycTHAUyehZj",
        "colab_type": "code",
        "colab": {}
      },
      "source": [
        "np.random.seed(42)"
      ],
      "execution_count": 0,
      "outputs": []
    },
    {
      "cell_type": "code",
      "metadata": {
        "id": "T2eiCCQ5eicf",
        "colab_type": "code",
        "colab": {
          "base_uri": "https://localhost:8080/",
          "height": 1000
        },
        "outputId": "9966678b-0946-4596-dcb5-be5be665eed0"
      },
      "source": [
        "my_first_nn = Sequential() # create model\n",
        "my_first_nn.add(Dense(50, input_dim=29, activation='relu')) # hidden layer\n",
        "my_first_nn.add(Dense(1, activation='sigmoid')) # output layer\n",
        "my_first_nn.compile(loss='binary_crossentropy', optimizer='rmsprop', metrics=['acc'])\n",
        "my_first_nn_fitted = my_first_nn.fit(X_train, Y_train, epochs=100,initial_epoch=0)"
      ],
      "execution_count": 8,
      "outputs": [
        {
          "output_type": "stream",
          "text": [
            "Epoch 1/100\n",
            "426/426 [==============================] - 0s 391us/step - loss: 9.8798 - acc: 0.3803\n",
            "Epoch 2/100\n",
            "426/426 [==============================] - 0s 50us/step - loss: 9.8798 - acc: 0.3803\n",
            "Epoch 3/100\n",
            "426/426 [==============================] - 0s 48us/step - loss: 9.8798 - acc: 0.3803\n",
            "Epoch 4/100\n",
            "426/426 [==============================] - 0s 44us/step - loss: 9.8798 - acc: 0.3803\n",
            "Epoch 5/100\n",
            "426/426 [==============================] - 0s 44us/step - loss: 9.8798 - acc: 0.3803\n",
            "Epoch 6/100\n",
            "426/426 [==============================] - 0s 43us/step - loss: 9.8798 - acc: 0.3803\n",
            "Epoch 7/100\n",
            "426/426 [==============================] - 0s 44us/step - loss: 9.8798 - acc: 0.3803\n",
            "Epoch 8/100\n",
            "426/426 [==============================] - 0s 48us/step - loss: 9.8798 - acc: 0.3803\n",
            "Epoch 9/100\n",
            "426/426 [==============================] - 0s 58us/step - loss: 9.8798 - acc: 0.3803\n",
            "Epoch 10/100\n",
            "426/426 [==============================] - 0s 50us/step - loss: 9.8798 - acc: 0.3803\n",
            "Epoch 11/100\n",
            "426/426 [==============================] - 0s 51us/step - loss: 9.8798 - acc: 0.3803\n",
            "Epoch 12/100\n",
            "426/426 [==============================] - 0s 53us/step - loss: 9.8798 - acc: 0.3803\n",
            "Epoch 13/100\n",
            "426/426 [==============================] - 0s 63us/step - loss: 9.8798 - acc: 0.3803\n",
            "Epoch 14/100\n",
            "426/426 [==============================] - 0s 51us/step - loss: 9.8798 - acc: 0.3803\n",
            "Epoch 15/100\n",
            "426/426 [==============================] - 0s 45us/step - loss: 9.8798 - acc: 0.3803\n",
            "Epoch 16/100\n",
            "426/426 [==============================] - 0s 46us/step - loss: 9.8798 - acc: 0.3803\n",
            "Epoch 17/100\n",
            "426/426 [==============================] - 0s 57us/step - loss: 9.8798 - acc: 0.3803\n",
            "Epoch 18/100\n",
            "426/426 [==============================] - 0s 53us/step - loss: 9.8798 - acc: 0.3803\n",
            "Epoch 19/100\n",
            "426/426 [==============================] - 0s 60us/step - loss: 9.8798 - acc: 0.3803\n",
            "Epoch 20/100\n",
            "426/426 [==============================] - 0s 52us/step - loss: 9.8798 - acc: 0.3803\n",
            "Epoch 21/100\n",
            "426/426 [==============================] - 0s 47us/step - loss: 9.8798 - acc: 0.3803\n",
            "Epoch 22/100\n",
            "426/426 [==============================] - 0s 45us/step - loss: 9.8798 - acc: 0.3803\n",
            "Epoch 23/100\n",
            "426/426 [==============================] - 0s 48us/step - loss: 9.8798 - acc: 0.3803\n",
            "Epoch 24/100\n",
            "426/426 [==============================] - 0s 46us/step - loss: 9.8798 - acc: 0.3803\n",
            "Epoch 25/100\n",
            "426/426 [==============================] - 0s 51us/step - loss: 9.8798 - acc: 0.3803\n",
            "Epoch 26/100\n",
            "426/426 [==============================] - 0s 46us/step - loss: 9.8798 - acc: 0.3803\n",
            "Epoch 27/100\n",
            "426/426 [==============================] - 0s 55us/step - loss: 9.8798 - acc: 0.3803\n",
            "Epoch 28/100\n",
            "426/426 [==============================] - 0s 52us/step - loss: 9.8798 - acc: 0.3803\n",
            "Epoch 29/100\n",
            "426/426 [==============================] - 0s 46us/step - loss: 9.8798 - acc: 0.3803\n",
            "Epoch 30/100\n",
            "426/426 [==============================] - 0s 50us/step - loss: 9.8798 - acc: 0.3803\n",
            "Epoch 31/100\n",
            "426/426 [==============================] - 0s 51us/step - loss: 9.8798 - acc: 0.3803\n",
            "Epoch 32/100\n",
            "426/426 [==============================] - 0s 52us/step - loss: 9.8798 - acc: 0.3803\n",
            "Epoch 33/100\n",
            "426/426 [==============================] - 0s 42us/step - loss: 9.8798 - acc: 0.3803\n",
            "Epoch 34/100\n",
            "426/426 [==============================] - 0s 44us/step - loss: 9.8798 - acc: 0.3803\n",
            "Epoch 35/100\n",
            "426/426 [==============================] - 0s 65us/step - loss: 9.8798 - acc: 0.3803\n",
            "Epoch 36/100\n",
            "426/426 [==============================] - 0s 47us/step - loss: 9.8798 - acc: 0.3803\n",
            "Epoch 37/100\n",
            "426/426 [==============================] - 0s 48us/step - loss: 9.8798 - acc: 0.3803\n",
            "Epoch 38/100\n",
            "426/426 [==============================] - 0s 50us/step - loss: 9.8798 - acc: 0.3803\n",
            "Epoch 39/100\n",
            "426/426 [==============================] - 0s 51us/step - loss: 9.8798 - acc: 0.3803\n",
            "Epoch 40/100\n",
            "426/426 [==============================] - 0s 53us/step - loss: 9.8798 - acc: 0.3803\n",
            "Epoch 41/100\n",
            "426/426 [==============================] - 0s 54us/step - loss: 9.8798 - acc: 0.3803\n",
            "Epoch 42/100\n",
            "426/426 [==============================] - 0s 56us/step - loss: 9.8798 - acc: 0.3803\n",
            "Epoch 43/100\n",
            "426/426 [==============================] - 0s 57us/step - loss: 9.8798 - acc: 0.3803\n",
            "Epoch 44/100\n",
            "426/426 [==============================] - 0s 50us/step - loss: 9.8798 - acc: 0.3803\n",
            "Epoch 45/100\n",
            "426/426 [==============================] - 0s 50us/step - loss: 9.8798 - acc: 0.3803\n",
            "Epoch 46/100\n",
            "426/426 [==============================] - 0s 49us/step - loss: 9.8798 - acc: 0.3803\n",
            "Epoch 47/100\n",
            "426/426 [==============================] - 0s 53us/step - loss: 9.8798 - acc: 0.3803\n",
            "Epoch 48/100\n",
            "426/426 [==============================] - 0s 56us/step - loss: 9.8798 - acc: 0.3803\n",
            "Epoch 49/100\n",
            "426/426 [==============================] - 0s 51us/step - loss: 9.8798 - acc: 0.3803\n",
            "Epoch 50/100\n",
            "426/426 [==============================] - 0s 46us/step - loss: 9.8798 - acc: 0.3803\n",
            "Epoch 51/100\n",
            "426/426 [==============================] - 0s 49us/step - loss: 9.8798 - acc: 0.3803\n",
            "Epoch 52/100\n",
            "426/426 [==============================] - 0s 49us/step - loss: 9.8798 - acc: 0.3803\n",
            "Epoch 53/100\n",
            "426/426 [==============================] - 0s 42us/step - loss: 9.8798 - acc: 0.3803\n",
            "Epoch 54/100\n",
            "426/426 [==============================] - 0s 56us/step - loss: 9.8798 - acc: 0.3803\n",
            "Epoch 55/100\n",
            "426/426 [==============================] - 0s 44us/step - loss: 9.8798 - acc: 0.3803\n",
            "Epoch 56/100\n",
            "426/426 [==============================] - 0s 43us/step - loss: 9.8798 - acc: 0.3803\n",
            "Epoch 57/100\n",
            "426/426 [==============================] - 0s 53us/step - loss: 9.8798 - acc: 0.3803\n",
            "Epoch 58/100\n",
            "426/426 [==============================] - 0s 46us/step - loss: 9.8798 - acc: 0.3803\n",
            "Epoch 59/100\n",
            "426/426 [==============================] - 0s 46us/step - loss: 9.8798 - acc: 0.3803\n",
            "Epoch 60/100\n",
            "426/426 [==============================] - 0s 47us/step - loss: 9.8798 - acc: 0.3803\n",
            "Epoch 61/100\n",
            "426/426 [==============================] - 0s 54us/step - loss: 9.8798 - acc: 0.3803\n",
            "Epoch 62/100\n",
            "426/426 [==============================] - 0s 43us/step - loss: 9.8798 - acc: 0.3803\n",
            "Epoch 63/100\n",
            "426/426 [==============================] - 0s 73us/step - loss: 9.8798 - acc: 0.3803\n",
            "Epoch 64/100\n",
            "426/426 [==============================] - 0s 65us/step - loss: 9.8798 - acc: 0.3803\n",
            "Epoch 65/100\n",
            "426/426 [==============================] - 0s 60us/step - loss: 9.8798 - acc: 0.3803\n",
            "Epoch 66/100\n",
            "426/426 [==============================] - 0s 60us/step - loss: 9.8798 - acc: 0.3803\n",
            "Epoch 67/100\n",
            "426/426 [==============================] - 0s 53us/step - loss: 9.8798 - acc: 0.3803\n",
            "Epoch 68/100\n",
            "426/426 [==============================] - 0s 59us/step - loss: 9.8798 - acc: 0.3803\n",
            "Epoch 69/100\n",
            "426/426 [==============================] - 0s 56us/step - loss: 9.8798 - acc: 0.3803\n",
            "Epoch 70/100\n",
            "426/426 [==============================] - 0s 63us/step - loss: 9.8798 - acc: 0.3803\n",
            "Epoch 71/100\n",
            "426/426 [==============================] - 0s 50us/step - loss: 9.8798 - acc: 0.3803\n",
            "Epoch 72/100\n",
            "426/426 [==============================] - 0s 66us/step - loss: 9.8798 - acc: 0.3803\n",
            "Epoch 73/100\n",
            "426/426 [==============================] - 0s 47us/step - loss: 9.8798 - acc: 0.3803\n",
            "Epoch 74/100\n",
            "426/426 [==============================] - 0s 54us/step - loss: 9.8798 - acc: 0.3803\n",
            "Epoch 75/100\n",
            "426/426 [==============================] - 0s 49us/step - loss: 9.8798 - acc: 0.3803\n",
            "Epoch 76/100\n",
            "426/426 [==============================] - 0s 56us/step - loss: 9.8798 - acc: 0.3803\n",
            "Epoch 77/100\n",
            "426/426 [==============================] - 0s 53us/step - loss: 9.8798 - acc: 0.3803\n",
            "Epoch 78/100\n",
            "426/426 [==============================] - 0s 48us/step - loss: 9.8798 - acc: 0.3803\n",
            "Epoch 79/100\n",
            "426/426 [==============================] - 0s 45us/step - loss: 9.8798 - acc: 0.3803\n",
            "Epoch 80/100\n",
            "426/426 [==============================] - 0s 57us/step - loss: 9.8798 - acc: 0.3803\n",
            "Epoch 81/100\n",
            "426/426 [==============================] - 0s 49us/step - loss: 9.8798 - acc: 0.3803\n",
            "Epoch 82/100\n",
            "426/426 [==============================] - 0s 50us/step - loss: 9.8798 - acc: 0.3803\n",
            "Epoch 83/100\n",
            "426/426 [==============================] - 0s 51us/step - loss: 9.8798 - acc: 0.3803\n",
            "Epoch 84/100\n",
            "426/426 [==============================] - 0s 88us/step - loss: 9.8798 - acc: 0.3803\n",
            "Epoch 85/100\n",
            "426/426 [==============================] - 0s 54us/step - loss: 9.8798 - acc: 0.3803\n",
            "Epoch 86/100\n",
            "426/426 [==============================] - 0s 51us/step - loss: 9.8798 - acc: 0.3803\n",
            "Epoch 87/100\n",
            "426/426 [==============================] - 0s 59us/step - loss: 9.8798 - acc: 0.3803\n",
            "Epoch 88/100\n",
            "426/426 [==============================] - 0s 63us/step - loss: 9.8798 - acc: 0.3803\n",
            "Epoch 89/100\n",
            "426/426 [==============================] - 0s 43us/step - loss: 9.8798 - acc: 0.3803\n",
            "Epoch 90/100\n",
            "426/426 [==============================] - 0s 45us/step - loss: 9.8798 - acc: 0.3803\n",
            "Epoch 91/100\n",
            "426/426 [==============================] - 0s 49us/step - loss: 9.8798 - acc: 0.3803\n",
            "Epoch 92/100\n",
            "426/426 [==============================] - 0s 56us/step - loss: 9.8798 - acc: 0.3803\n",
            "Epoch 93/100\n",
            "426/426 [==============================] - 0s 65us/step - loss: 9.8798 - acc: 0.3803\n",
            "Epoch 94/100\n",
            "426/426 [==============================] - 0s 51us/step - loss: 9.8798 - acc: 0.3803\n",
            "Epoch 95/100\n",
            "426/426 [==============================] - 0s 51us/step - loss: 9.8798 - acc: 0.3803\n",
            "Epoch 96/100\n",
            "426/426 [==============================] - 0s 60us/step - loss: 9.8798 - acc: 0.3803\n",
            "Epoch 97/100\n",
            "426/426 [==============================] - 0s 51us/step - loss: 9.8798 - acc: 0.3803\n",
            "Epoch 98/100\n",
            "426/426 [==============================] - 0s 47us/step - loss: 9.8798 - acc: 0.3803\n",
            "Epoch 99/100\n",
            "426/426 [==============================] - 0s 45us/step - loss: 9.8798 - acc: 0.3803\n",
            "Epoch 100/100\n",
            "426/426 [==============================] - 0s 61us/step - loss: 9.8798 - acc: 0.3803\n"
          ],
          "name": "stdout"
        }
      ]
    },
    {
      "cell_type": "code",
      "metadata": {
        "id": "-LAVTKbCeii7",
        "colab_type": "code",
        "colab": {
          "base_uri": "https://localhost:8080/",
          "height": 281
        },
        "outputId": "c4361ed5-9686-4dc7-b63e-2d3aa674599e"
      },
      "source": [
        "print(my_first_nn.summary())\n",
        "print(my_first_nn.evaluate(X_test, Y_test))"
      ],
      "execution_count": 9,
      "outputs": [
        {
          "output_type": "stream",
          "text": [
            "Model: \"sequential_2\"\n",
            "_________________________________________________________________\n",
            "Layer (type)                 Output Shape              Param #   \n",
            "=================================================================\n",
            "dense_3 (Dense)              (None, 50)                1500      \n",
            "_________________________________________________________________\n",
            "dense_4 (Dense)              (None, 1)                 51        \n",
            "=================================================================\n",
            "Total params: 1,551\n",
            "Trainable params: 1,551\n",
            "Non-trainable params: 0\n",
            "_________________________________________________________________\n",
            "None\n",
            "143/143 [==============================] - 0s 397us/step\n",
            "[10.368124928507772, 0.3496503498587575]\n"
          ],
          "name": "stdout"
        }
      ]
    }
  ]
}