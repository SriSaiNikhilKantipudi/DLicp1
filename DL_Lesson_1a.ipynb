{
  "nbformat": 4,
  "nbformat_minor": 0,
  "metadata": {
    "colab": {
      "name": "DL_Lesson_1a.ipynb",
      "provenance": []
    },
    "kernelspec": {
      "name": "python3",
      "display_name": "Python 3"
    }
  },
  "cells": [
    {
      "cell_type": "code",
      "metadata": {
        "id": "pTRagYcvHjDj",
        "colab_type": "code",
        "colab": {}
      },
      "source": [
        "import pandas\n",
        "from keras.models import Sequential\n",
        "from keras.layers.core import Dense, Activation\n",
        "\n",
        "# load dataset\n",
        "from sklearn.model_selection import train_test_split\n",
        "import pandas as pd\n",
        "import numpy as np"
      ],
      "execution_count": 0,
      "outputs": []
    },
    {
      "cell_type": "code",
      "metadata": {
        "id": "4X26qxTa_CCO",
        "colab_type": "code",
        "outputId": "d928a46f-0655-41ec-9585-6d664e34610f",
        "colab": {
          "base_uri": "https://localhost:8080/",
          "height": 125
        }
      },
      "source": [
        "from google.colab import drive\n",
        "drive.mount('/content/drive')\n"
      ],
      "execution_count": 2,
      "outputs": [
        {
          "output_type": "stream",
          "text": [
            "Go to this URL in a browser: https://accounts.google.com/o/oauth2/auth?client_id=947318989803-6bn6qk8qdgf4n4g3pfee6491hc0brc4i.apps.googleusercontent.com&redirect_uri=urn%3aietf%3awg%3aoauth%3a2.0%3aoob&response_type=code&scope=email%20https%3a%2f%2fwww.googleapis.com%2fauth%2fdocs.test%20https%3a%2f%2fwww.googleapis.com%2fauth%2fdrive%20https%3a%2f%2fwww.googleapis.com%2fauth%2fdrive.photos.readonly%20https%3a%2f%2fwww.googleapis.com%2fauth%2fpeopleapi.readonly\n",
            "\n",
            "Enter your authorization code:\n",
            "··········\n",
            "Mounted at /content/drive\n"
          ],
          "name": "stdout"
        }
      ]
    },
    {
      "cell_type": "code",
      "metadata": {
        "id": "ApzFGDkOHnt7",
        "colab_type": "code",
        "colab": {}
      },
      "source": [
        "dataset = pd.read_csv(\"/content/drive/My Drive/Colab Notebooks/deeplearning/diabetes.csv\", header=None).values"
      ],
      "execution_count": 0,
      "outputs": []
    },
    {
      "cell_type": "code",
      "metadata": {
        "id": "yt64olkkHwft",
        "colab_type": "code",
        "colab": {}
      },
      "source": [
        "X_train, X_test, Y_train, Y_test = train_test_split(dataset[:,0:8], dataset[:,8],test_size=0.25, random_state=87)"
      ],
      "execution_count": 0,
      "outputs": []
    },
    {
      "cell_type": "code",
      "metadata": {
        "id": "d31zma3SH1KX",
        "colab_type": "code",
        "colab": {}
      },
      "source": [
        "np.random.seed(42)"
      ],
      "execution_count": 0,
      "outputs": []
    },
    {
      "cell_type": "code",
      "metadata": {
        "id": "rMfomxTmH3ww",
        "colab_type": "code",
        "colab": {
          "base_uri": "https://localhost:8080/",
          "height": 1000
        },
        "outputId": "f705623c-79e3-4835-8622-a180733a2e3b"
      },
      "source": [
        "my_first_nn = Sequential() # create model\n",
        "my_first_nn.add(Dense(21, input_dim=8, activation='relu')) # hidden layer\n",
        "my_first_nn.add(Dense(1, activation='sigmoid')) # output layer\n",
        "my_first_nn.compile(loss='binary_crossentropy', optimizer='adam', metrics=['acc'])\n",
        "my_first_nn_fitted = my_first_nn.fit(X_train, Y_train, epochs=100,initial_epoch=0)"
      ],
      "execution_count": 11,
      "outputs": [
        {
          "output_type": "stream",
          "text": [
            "Epoch 1/100\n",
            "576/576 [==============================] - 0s 470us/step - loss: 5.3807 - acc: 0.6597\n",
            "Epoch 2/100\n",
            "576/576 [==============================] - 0s 42us/step - loss: 4.2448 - acc: 0.6250\n",
            "Epoch 3/100\n",
            "576/576 [==============================] - 0s 45us/step - loss: 3.5661 - acc: 0.5503\n",
            "Epoch 4/100\n",
            "576/576 [==============================] - 0s 51us/step - loss: 3.1360 - acc: 0.5938\n",
            "Epoch 5/100\n",
            "576/576 [==============================] - 0s 49us/step - loss: 1.6320 - acc: 0.5538\n",
            "Epoch 6/100\n",
            "576/576 [==============================] - 0s 45us/step - loss: 0.9898 - acc: 0.6406\n",
            "Epoch 7/100\n",
            "576/576 [==============================] - 0s 45us/step - loss: 0.8280 - acc: 0.6441\n",
            "Epoch 8/100\n",
            "576/576 [==============================] - 0s 50us/step - loss: 0.7543 - acc: 0.6736\n",
            "Epoch 9/100\n",
            "576/576 [==============================] - 0s 44us/step - loss: 0.7236 - acc: 0.6719\n",
            "Epoch 10/100\n",
            "576/576 [==============================] - 0s 51us/step - loss: 0.6907 - acc: 0.6823\n",
            "Epoch 11/100\n",
            "576/576 [==============================] - 0s 49us/step - loss: 0.6829 - acc: 0.6667\n",
            "Epoch 12/100\n",
            "576/576 [==============================] - 0s 53us/step - loss: 0.6834 - acc: 0.6649\n",
            "Epoch 13/100\n",
            "576/576 [==============================] - 0s 39us/step - loss: 0.6685 - acc: 0.6736\n",
            "Epoch 14/100\n",
            "576/576 [==============================] - 0s 45us/step - loss: 0.6639 - acc: 0.6771\n",
            "Epoch 15/100\n",
            "576/576 [==============================] - 0s 47us/step - loss: 0.6448 - acc: 0.6840\n",
            "Epoch 16/100\n",
            "576/576 [==============================] - 0s 41us/step - loss: 0.6465 - acc: 0.6771\n",
            "Epoch 17/100\n",
            "576/576 [==============================] - 0s 38us/step - loss: 0.6292 - acc: 0.7031\n",
            "Epoch 18/100\n",
            "576/576 [==============================] - 0s 58us/step - loss: 0.6524 - acc: 0.6736\n",
            "Epoch 19/100\n",
            "576/576 [==============================] - 0s 60us/step - loss: 0.6590 - acc: 0.6597\n",
            "Epoch 20/100\n",
            "576/576 [==============================] - 0s 56us/step - loss: 0.6183 - acc: 0.6806\n",
            "Epoch 21/100\n",
            "576/576 [==============================] - 0s 49us/step - loss: 0.6114 - acc: 0.6962\n",
            "Epoch 22/100\n",
            "576/576 [==============================] - 0s 59us/step - loss: 0.6190 - acc: 0.6788\n",
            "Epoch 23/100\n",
            "576/576 [==============================] - 0s 59us/step - loss: 0.6186 - acc: 0.6892\n",
            "Epoch 24/100\n",
            "576/576 [==============================] - 0s 50us/step - loss: 0.6106 - acc: 0.6892\n",
            "Epoch 25/100\n",
            "576/576 [==============================] - 0s 46us/step - loss: 0.6336 - acc: 0.6840\n",
            "Epoch 26/100\n",
            "576/576 [==============================] - 0s 40us/step - loss: 0.6184 - acc: 0.6944\n",
            "Epoch 27/100\n",
            "576/576 [==============================] - 0s 47us/step - loss: 0.6084 - acc: 0.7101\n",
            "Epoch 28/100\n",
            "576/576 [==============================] - 0s 44us/step - loss: 0.6021 - acc: 0.6927\n",
            "Epoch 29/100\n",
            "576/576 [==============================] - 0s 43us/step - loss: 0.6051 - acc: 0.6944\n",
            "Epoch 30/100\n",
            "576/576 [==============================] - 0s 44us/step - loss: 0.6075 - acc: 0.6875\n",
            "Epoch 31/100\n",
            "576/576 [==============================] - 0s 46us/step - loss: 0.5934 - acc: 0.7101\n",
            "Epoch 32/100\n",
            "576/576 [==============================] - 0s 51us/step - loss: 0.5972 - acc: 0.7014\n",
            "Epoch 33/100\n",
            "576/576 [==============================] - 0s 47us/step - loss: 0.5868 - acc: 0.7031\n",
            "Epoch 34/100\n",
            "576/576 [==============================] - 0s 47us/step - loss: 0.5983 - acc: 0.6997\n",
            "Epoch 35/100\n",
            "576/576 [==============================] - 0s 44us/step - loss: 0.5948 - acc: 0.6979\n",
            "Epoch 36/100\n",
            "576/576 [==============================] - 0s 41us/step - loss: 0.5900 - acc: 0.6979\n",
            "Epoch 37/100\n",
            "576/576 [==============================] - 0s 53us/step - loss: 0.5876 - acc: 0.7031\n",
            "Epoch 38/100\n",
            "576/576 [==============================] - 0s 42us/step - loss: 0.5847 - acc: 0.7031\n",
            "Epoch 39/100\n",
            "576/576 [==============================] - 0s 48us/step - loss: 0.5937 - acc: 0.6927\n",
            "Epoch 40/100\n",
            "576/576 [==============================] - 0s 55us/step - loss: 0.6249 - acc: 0.6944\n",
            "Epoch 41/100\n",
            "576/576 [==============================] - 0s 58us/step - loss: 0.5989 - acc: 0.7031\n",
            "Epoch 42/100\n",
            "576/576 [==============================] - 0s 44us/step - loss: 0.5902 - acc: 0.7031\n",
            "Epoch 43/100\n",
            "576/576 [==============================] - 0s 63us/step - loss: 0.5848 - acc: 0.7049\n",
            "Epoch 44/100\n",
            "576/576 [==============================] - 0s 37us/step - loss: 0.5959 - acc: 0.7014\n",
            "Epoch 45/100\n",
            "576/576 [==============================] - 0s 44us/step - loss: 0.5744 - acc: 0.7118\n",
            "Epoch 46/100\n",
            "576/576 [==============================] - 0s 47us/step - loss: 0.5833 - acc: 0.7101\n",
            "Epoch 47/100\n",
            "576/576 [==============================] - 0s 42us/step - loss: 0.5802 - acc: 0.7014\n",
            "Epoch 48/100\n",
            "576/576 [==============================] - 0s 39us/step - loss: 0.6195 - acc: 0.6701\n",
            "Epoch 49/100\n",
            "576/576 [==============================] - 0s 44us/step - loss: 0.5920 - acc: 0.6979\n",
            "Epoch 50/100\n",
            "576/576 [==============================] - 0s 45us/step - loss: 0.5989 - acc: 0.7153\n",
            "Epoch 51/100\n",
            "576/576 [==============================] - 0s 48us/step - loss: 0.5816 - acc: 0.7118\n",
            "Epoch 52/100\n",
            "576/576 [==============================] - 0s 45us/step - loss: 0.5656 - acc: 0.7101\n",
            "Epoch 53/100\n",
            "576/576 [==============================] - 0s 40us/step - loss: 0.5804 - acc: 0.7014\n",
            "Epoch 54/100\n",
            "576/576 [==============================] - 0s 49us/step - loss: 0.5814 - acc: 0.7049\n",
            "Epoch 55/100\n",
            "576/576 [==============================] - 0s 49us/step - loss: 0.5789 - acc: 0.6997\n",
            "Epoch 56/100\n",
            "576/576 [==============================] - 0s 52us/step - loss: 0.6067 - acc: 0.6910\n",
            "Epoch 57/100\n",
            "576/576 [==============================] - 0s 63us/step - loss: 0.5805 - acc: 0.7014\n",
            "Epoch 58/100\n",
            "576/576 [==============================] - 0s 42us/step - loss: 0.5712 - acc: 0.7101\n",
            "Epoch 59/100\n",
            "576/576 [==============================] - 0s 46us/step - loss: 0.5711 - acc: 0.7135\n",
            "Epoch 60/100\n",
            "576/576 [==============================] - 0s 45us/step - loss: 0.5877 - acc: 0.6997\n",
            "Epoch 61/100\n",
            "576/576 [==============================] - 0s 42us/step - loss: 0.5657 - acc: 0.7153\n",
            "Epoch 62/100\n",
            "576/576 [==============================] - 0s 47us/step - loss: 0.5690 - acc: 0.7118\n",
            "Epoch 63/100\n",
            "576/576 [==============================] - 0s 49us/step - loss: 0.5987 - acc: 0.7031\n",
            "Epoch 64/100\n",
            "576/576 [==============================] - 0s 47us/step - loss: 0.5597 - acc: 0.7292\n",
            "Epoch 65/100\n",
            "576/576 [==============================] - 0s 44us/step - loss: 0.5539 - acc: 0.7240\n",
            "Epoch 66/100\n",
            "576/576 [==============================] - 0s 48us/step - loss: 0.5656 - acc: 0.7257\n",
            "Epoch 67/100\n",
            "576/576 [==============================] - 0s 47us/step - loss: 0.5837 - acc: 0.7118\n",
            "Epoch 68/100\n",
            "576/576 [==============================] - 0s 48us/step - loss: 0.5519 - acc: 0.7361\n",
            "Epoch 69/100\n",
            "576/576 [==============================] - 0s 51us/step - loss: 0.5637 - acc: 0.7257\n",
            "Epoch 70/100\n",
            "576/576 [==============================] - 0s 46us/step - loss: 0.5540 - acc: 0.7170\n",
            "Epoch 71/100\n",
            "576/576 [==============================] - 0s 44us/step - loss: 0.5550 - acc: 0.7222\n",
            "Epoch 72/100\n",
            "576/576 [==============================] - 0s 39us/step - loss: 0.5512 - acc: 0.7240\n",
            "Epoch 73/100\n",
            "576/576 [==============================] - 0s 50us/step - loss: 0.5543 - acc: 0.7274\n",
            "Epoch 74/100\n",
            "576/576 [==============================] - 0s 52us/step - loss: 0.5507 - acc: 0.7257\n",
            "Epoch 75/100\n",
            "576/576 [==============================] - 0s 48us/step - loss: 0.5618 - acc: 0.7153\n",
            "Epoch 76/100\n",
            "576/576 [==============================] - 0s 54us/step - loss: 0.5622 - acc: 0.7049\n",
            "Epoch 77/100\n",
            "576/576 [==============================] - 0s 51us/step - loss: 0.5709 - acc: 0.7135\n",
            "Epoch 78/100\n",
            "576/576 [==============================] - 0s 44us/step - loss: 0.5536 - acc: 0.7240\n",
            "Epoch 79/100\n",
            "576/576 [==============================] - 0s 50us/step - loss: 0.5556 - acc: 0.7240\n",
            "Epoch 80/100\n",
            "576/576 [==============================] - 0s 48us/step - loss: 0.5643 - acc: 0.7118\n",
            "Epoch 81/100\n",
            "576/576 [==============================] - 0s 48us/step - loss: 0.5447 - acc: 0.7309\n",
            "Epoch 82/100\n",
            "576/576 [==============================] - 0s 46us/step - loss: 0.5510 - acc: 0.7378\n",
            "Epoch 83/100\n",
            "576/576 [==============================] - 0s 43us/step - loss: 0.5538 - acc: 0.7205\n",
            "Epoch 84/100\n",
            "576/576 [==============================] - 0s 48us/step - loss: 0.5866 - acc: 0.7066\n",
            "Epoch 85/100\n",
            "576/576 [==============================] - 0s 42us/step - loss: 0.5662 - acc: 0.7049\n",
            "Epoch 86/100\n",
            "576/576 [==============================] - 0s 39us/step - loss: 0.5511 - acc: 0.7170\n",
            "Epoch 87/100\n",
            "576/576 [==============================] - 0s 40us/step - loss: 0.5530 - acc: 0.7396\n",
            "Epoch 88/100\n",
            "576/576 [==============================] - 0s 48us/step - loss: 0.5449 - acc: 0.7361\n",
            "Epoch 89/100\n",
            "576/576 [==============================] - 0s 48us/step - loss: 0.5446 - acc: 0.7205\n",
            "Epoch 90/100\n",
            "576/576 [==============================] - 0s 39us/step - loss: 0.5678 - acc: 0.7066\n",
            "Epoch 91/100\n",
            "576/576 [==============================] - 0s 42us/step - loss: 0.5660 - acc: 0.7222\n",
            "Epoch 92/100\n",
            "576/576 [==============================] - 0s 41us/step - loss: 0.5579 - acc: 0.7083\n",
            "Epoch 93/100\n",
            "576/576 [==============================] - 0s 44us/step - loss: 0.5797 - acc: 0.6997\n",
            "Epoch 94/100\n",
            "576/576 [==============================] - 0s 45us/step - loss: 0.5583 - acc: 0.7361\n",
            "Epoch 95/100\n",
            "576/576 [==============================] - 0s 43us/step - loss: 0.5332 - acc: 0.7483\n",
            "Epoch 96/100\n",
            "576/576 [==============================] - 0s 38us/step - loss: 0.5440 - acc: 0.7292\n",
            "Epoch 97/100\n",
            "576/576 [==============================] - 0s 41us/step - loss: 0.5416 - acc: 0.7309\n",
            "Epoch 98/100\n",
            "576/576 [==============================] - 0s 41us/step - loss: 0.5341 - acc: 0.7257\n",
            "Epoch 99/100\n",
            "576/576 [==============================] - 0s 48us/step - loss: 0.5359 - acc: 0.7361\n",
            "Epoch 100/100\n",
            "576/576 [==============================] - 0s 44us/step - loss: 0.5341 - acc: 0.7292\n"
          ],
          "name": "stdout"
        }
      ]
    },
    {
      "cell_type": "code",
      "metadata": {
        "id": "19SYVY4DH7OW",
        "colab_type": "code",
        "colab": {
          "base_uri": "https://localhost:8080/",
          "height": 281
        },
        "outputId": "08c1c0cf-0b21-4375-d660-02da45c71a74"
      },
      "source": [
        "print(my_first_nn.summary())\n",
        "print(my_first_nn.evaluate(X_test, Y_test))"
      ],
      "execution_count": 12,
      "outputs": [
        {
          "output_type": "stream",
          "text": [
            "Model: \"sequential_3\"\n",
            "_________________________________________________________________\n",
            "Layer (type)                 Output Shape              Param #   \n",
            "=================================================================\n",
            "dense_5 (Dense)              (None, 21)                189       \n",
            "_________________________________________________________________\n",
            "dense_6 (Dense)              (None, 1)                 22        \n",
            "=================================================================\n",
            "Total params: 211\n",
            "Trainable params: 211\n",
            "Non-trainable params: 0\n",
            "_________________________________________________________________\n",
            "None\n",
            "192/192 [==============================] - 0s 381us/step\n",
            "[0.636113574107488, 0.6822916666666666]\n"
          ],
          "name": "stdout"
        }
      ]
    },
    {
      "cell_type": "code",
      "metadata": {
        "id": "EBYPua9zH-E6",
        "colab_type": "code",
        "colab": {}
      },
      "source": [
        ""
      ],
      "execution_count": 0,
      "outputs": []
    }
  ]
}